{
  "cells": [
    {
      "cell_type": "code",
      "execution_count": 2,
      "metadata": {
        "id": "g05P_HquJvXY"
      },
      "outputs": [],
      "source": [
        "import os\n",
        "import time\n",
        "from bs4 import BeautifulSoup\n",
        "from playwright.async_api import async_playwright, TimeoutError as PlaywrightTimeout"
      ]
    },
    {
      "cell_type": "code",
      "source": [
        "!pip install BeautifulSoup\n",
        "!pip install playwright\n",
        "!playwright install\n",
        "!playwright install-deps"
      ],
      "metadata": {
        "id": "GDNnol-nJ5CS"
      },
      "execution_count": null,
      "outputs": []
    },
    {
      "cell_type": "code",
      "source": [
        "from google.colab import drive\n",
        "drive.mount('/content/drive')"
      ],
      "metadata": {
        "id": "-Rx2nNrMJ1rI"
      },
      "execution_count": null,
      "outputs": []
    },
    {
      "cell_type": "code",
      "execution_count": 5,
      "metadata": {
        "colab": {
          "base_uri": "https://localhost:8080/"
        },
        "id": "-vc7yHH_JvXc",
        "outputId": "f62c6394-e071-4abb-eec1-446d256681a1"
      },
      "outputs": [
        {
          "output_type": "execute_result",
          "data": {
            "text/plain": [
              "[2015, 2016, 2017, 2018, 2019, 2020, 2021, 2022, 2023]"
            ]
          },
          "metadata": {},
          "execution_count": 5
        }
      ],
      "source": [
        "SEASONS = list(range(2015, 2024))\n",
        "SEASONS"
      ]
    },
    {
      "cell_type": "code",
      "execution_count": 6,
      "metadata": {
        "id": "l6k7DLhGJvXd"
      },
      "outputs": [],
      "source": [
        "DATA_DIR = \"/content/drive/MyDrive/Colab Notebooks/Basketball Analytics Project/data\""
      ]
    },
    {
      "cell_type": "code",
      "source": [
        "def is_valid_integer(string):\n",
        "    try:\n",
        "        integer = int(string)\n",
        "        return True\n",
        "    except ValueError:\n",
        "        return False\n"
      ],
      "metadata": {
        "id": "fn8OtHhnsmfN"
      },
      "execution_count": 7,
      "outputs": []
    },
    {
      "cell_type": "code",
      "execution_count": 8,
      "metadata": {
        "id": "4FeDRiagJvXd"
      },
      "outputs": [],
      "source": [
        "async def get_html(url, selector, sleep=5, retries=3):\n",
        "  html = None\n",
        "  for i in range(1, retries+1):\n",
        "    time.sleep(sleep * i)\n",
        "\n",
        "    try:\n",
        "      async with async_playwright() as p:\n",
        "        browser = await p.firefox.launch()\n",
        "        page = await browser.new_page()\n",
        "        await page.goto(url)\n",
        "        print(await page.title())\n",
        "        html = await page.inner_html(selector)\n",
        "    except PlaywrightTimeout:\n",
        "      print(f\"Tiemout error on {url}\")\n",
        "      continue\n",
        "    break\n",
        "\n",
        "  return html"
      ]
    },
    {
      "cell_type": "code",
      "source": [
        "async def scrape_season(season):\n",
        "  url = f'https://www.basketball-reference.com/players/c/curryst01/gamelog/2016'\n",
        "  html = await get_html(url, \"#inner_nav .hoversmooth\")\n",
        "\n",
        "  soup = BeautifulSoup(html)\n",
        "  links = soup.find_all(\"a\")\n",
        "  visited = set()  # Set to store visited URLs\n",
        "  games_pages = []\n",
        "\n",
        "  for link in links:\n",
        "      href = link.get(\"href\")\n",
        "      if href and \"gamelog\" in href and is_valid_integer(href.split('/')[-1]):\n",
        "          season = int(href.split('/')[-1])\n",
        "          if season in SEASONS and href not in visited:\n",
        "              games_pages.append(f\"https://www.basketball-reference.com{href}\")\n",
        "              visited.add(href)\n",
        "\n",
        "\n",
        "  for url in games_pages:\n",
        "    save_path = os.path.join(DATA_DIR, url.split(\"/\")[-1])\n",
        "    if os.path.exists(save_path):\n",
        "      continue\n",
        "\n",
        "    html = await get_html(url, \"#content\")\n",
        "    if not html:\n",
        "      continue\n",
        "    with open(save_path, \"w+\") as f:\n",
        "      f.write(html)\n"
      ],
      "metadata": {
        "id": "hQ69I3GcMCcU"
      },
      "execution_count": 9,
      "outputs": []
    },
    {
      "cell_type": "code",
      "source": [
        "for season in SEASONS:\n",
        "    await scrape_season(season)"
      ],
      "metadata": {
        "id": "DmThnQgIN_CT"
      },
      "execution_count": null,
      "outputs": []
    },
    {
      "cell_type": "code",
      "source": [
        "# !find '/content/drive/MyDrive/Colab Notebooks/Basketball Analytics Project/data' -type f -delete"
      ],
      "metadata": {
        "id": "pfwGoHZe5Dst"
      },
      "execution_count": 12,
      "outputs": []
    }
  ],
  "metadata": {
    "kernelspec": {
      "display_name": "Python 3",
      "language": "python",
      "name": "python3"
    },
    "language_info": {
      "codemirror_mode": {
        "name": "ipython",
        "version": 3
      },
      "file_extension": ".py",
      "mimetype": "text/x-python",
      "name": "python",
      "nbconvert_exporter": "python",
      "pygments_lexer": "ipython3",
      "version": "3.10.4"
    },
    "orig_nbformat": 4,
    "colab": {
      "provenance": []
    }
  },
  "nbformat": 4,
  "nbformat_minor": 0
}
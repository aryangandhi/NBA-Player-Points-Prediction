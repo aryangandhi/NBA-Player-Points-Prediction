{
  "cells": [
    {
      "cell_type": "code",
      "execution_count": 2,
      "metadata": {
        "id": "g05P_HquJvXY"
      },
      "outputs": [],
      "source": [
        "import os\n",
        "import time\n",
        "from bs4 import BeautifulSoup\n",
        "from playwright.async_api import async_playwright, TimeoutError as PlaywrightTimeout"
      ]
    },
    {
      "cell_type": "code",
      "source": [
        "!pip install BeautifulSoup\n",
        "!pip install playwright\n",
        "!playwright install\n",
        "!playwright install-deps"
      ],
      "metadata": {
        "id": "GDNnol-nJ5CS",
        "colab": {
          "base_uri": "https://localhost:8080/"
        },
        "outputId": "0f40723b-26d6-4f9a-82ab-8173423dcc68"
      },
      "execution_count": 3,
      "outputs": [
        {
          "output_type": "stream",
          "name": "stdout",
          "text": [
            "Collecting BeautifulSoup\n",
            "  Using cached BeautifulSoup-3.2.2.tar.gz (32 kB)\n",
            "  \u001b[1;31merror\u001b[0m: \u001b[1msubprocess-exited-with-error\u001b[0m\n",
            "  \n",
            "  \u001b[31m×\u001b[0m \u001b[32mpython setup.py egg_info\u001b[0m did not run successfully.\n",
            "  \u001b[31m│\u001b[0m exit code: \u001b[1;36m1\u001b[0m\n",
            "  \u001b[31m╰─>\u001b[0m See above for output.\n",
            "  \n",
            "  \u001b[1;35mnote\u001b[0m: This error originates from a subprocess, and is likely not a problem with pip.\n",
            "  Preparing metadata (setup.py) ... \u001b[?25l\u001b[?25herror\n",
            "\u001b[1;31merror\u001b[0m: \u001b[1mmetadata-generation-failed\u001b[0m\n",
            "\n",
            "\u001b[31m×\u001b[0m Encountered error while generating package metadata.\n",
            "\u001b[31m╰─>\u001b[0m See above for output.\n",
            "\n",
            "\u001b[1;35mnote\u001b[0m: This is an issue with the package mentioned above, not pip.\n",
            "\u001b[1;36mhint\u001b[0m: See above for details.\n",
            "Requirement already satisfied: playwright in /usr/local/lib/python3.10/dist-packages (1.35.0)\n",
            "Requirement already satisfied: greenlet==2.0.2 in /usr/local/lib/python3.10/dist-packages (from playwright) (2.0.2)\n",
            "Requirement already satisfied: pyee==9.0.4 in /usr/local/lib/python3.10/dist-packages (from playwright) (9.0.4)\n",
            "Requirement already satisfied: typing-extensions in /usr/local/lib/python3.10/dist-packages (from pyee==9.0.4->playwright) (4.6.3)\n",
            "Installing dependencies...\n",
            "Hit:1 https://developer.download.nvidia.com/compute/cuda/repos/ubuntu2004/x86_64  InRelease\n",
            "Hit:2 https://cloud.r-project.org/bin/linux/ubuntu focal-cran40/ InRelease\n",
            "Hit:3 http://security.ubuntu.com/ubuntu focal-security InRelease\n",
            "Hit:4 http://ppa.launchpad.net/c2d4u.team/c2d4u4.0+/ubuntu focal InRelease\n",
            "Hit:5 http://archive.ubuntu.com/ubuntu focal InRelease\n",
            "Hit:6 http://archive.ubuntu.com/ubuntu focal-updates InRelease\n",
            "Hit:7 http://ppa.launchpad.net/cran/libgit2/ubuntu focal InRelease\n",
            "Hit:8 http://archive.ubuntu.com/ubuntu focal-backports InRelease\n",
            "Hit:9 http://ppa.launchpad.net/deadsnakes/ppa/ubuntu focal InRelease\n",
            "Hit:10 http://ppa.launchpad.net/graphics-drivers/ppa/ubuntu focal InRelease\n",
            "Hit:11 http://ppa.launchpad.net/ubuntugis/ppa/ubuntu focal InRelease\n",
            "Reading package lists... Done\n",
            "Reading package lists... Done\n",
            "Building dependency tree       \n",
            "Reading state information... Done\n",
            "Note, selecting 'libfontconfig1' instead of 'libfontconfig'\n",
            "fonts-liberation is already the newest version (1:1.07.4-11).\n",
            "libatk1.0-0 is already the newest version (2.35.1-1ubuntu2).\n",
            "libatspi2.0-0 is already the newest version (2.36.0-2).\n",
            "libcairo-gobject2 is already the newest version (1.16.0-4ubuntu1).\n",
            "libcairo2 is already the newest version (1.16.0-4ubuntu1).\n",
            "libdbus-glib-1-2 is already the newest version (0.110-5fakssync1).\n",
            "libepoxy0 is already the newest version (1.5.4-1).\n",
            "libevent-2.1-7 is already the newest version (2.1.11-stable-1).\n",
            "libfontconfig1 is already the newest version (2.13.1-2ubuntu3).\n",
            "libgudev-1.0-0 is already the newest version (1:233-1).\n",
            "libhyphen0 is already the newest version (2.8.8-7).\n",
            "libnspr4 is already the newest version (2:4.25-1).\n",
            "libopus0 is already the newest version (1.3.1-0ubuntu1).\n",
            "libpango-1.0-0 is already the newest version (1.44.7-2ubuntu4).\n",
            "libpangocairo-1.0-0 is already the newest version (1.44.7-2ubuntu4).\n",
            "libpangoft2-1.0-0 is already the newest version (1.44.7-2ubuntu4).\n",
            "libpng16-16 is already the newest version (1.6.37-2).\n",
            "libsoup2.4-1 is already the newest version (2.70.0-1).\n",
            "libvpx6 is already the newest version (1.8.2-1build1).\n",
            "libwoff1 is already the newest version (1.0.2-1build2).\n",
            "libxcb-shm0 is already the newest version (1.14-2).\n",
            "libxcb1 is already the newest version (1.14-2).\n",
            "libxcomposite1 is already the newest version (1:0.4.5-1).\n",
            "libxcursor1 is already the newest version (1:1.2.0-2).\n",
            "libxdamage1 is already the newest version (1:1.1.5-2).\n",
            "libxext6 is already the newest version (2:1.3.4-0ubuntu1).\n",
            "libxfixes3 is already the newest version (1:5.0.3-2).\n",
            "libxi6 is already the newest version (2:1.7.10-0ubuntu1).\n",
            "libxkbcommon0 is already the newest version (0.10.0-1).\n",
            "libxrandr2 is already the newest version (2:1.5.2-0ubuntu1).\n",
            "libxrender1 is already the newest version (1:0.9.10-1).\n",
            "libxshmfence1 is already the newest version (1.3-1).\n",
            "libxt6 is already the newest version (1:1.1.5-1).\n",
            "libxtst6 is already the newest version (2:1.2.3-1).\n",
            "ttf-unifont is already the newest version (1:12.0.01-2).\n",
            "xfonts-scalable is already the newest version (1:1.0.3-1.1).\n",
            "fonts-ipafont-gothic is already the newest version (00303-18ubuntu1).\n",
            "fonts-tlwg-loma-otf is already the newest version (1:0.7.1-3).\n",
            "fonts-wqy-zenhei is already the newest version (0.9.45-7ubuntu1).\n",
            "libenchant1c2a is already the newest version (1.6.0-11.3build1).\n",
            "libflite1 is already the newest version (2.1-release-3).\n",
            "libx264-155 is already the newest version (2:0.155.2917+git0a84d98-2).\n",
            "ttf-ubuntu-font-family is already the newest version (1:0.83-4ubuntu1).\n",
            "xfonts-cyrillic is already the newest version (1:1.0.4).\n",
            "fonts-noto-color-emoji is already the newest version (0~20200916-1~ubuntu20.04.1).\n",
            "libasound2 is already the newest version (1.2.2-2.1ubuntu2.5).\n",
            "libatk-bridge2.0-0 is already the newest version (2.34.2-0ubuntu2~20.04.1).\n",
            "libatomic1 is already the newest version (10.3.0-1ubuntu1~20.04).\n",
            "libcups2 is already the newest version (2.3.1-9ubuntu1.4).\n",
            "libdbus-1-3 is already the newest version (1.12.16-2ubuntu2.3).\n",
            "libdrm2 is already the newest version (2.4.107-8ubuntu1~20.04.2).\n",
            "libegl1 is already the newest version (1.3.2-1~ubuntu0.20.04.2).\n",
            "libenchant-2-2 is already the newest version (2.2.8-1ubuntu0.20.04.1).\n",
            "libevdev2 is already the newest version (1.9.0+dfsg-1ubuntu0.2).\n",
            "libfreetype6 is already the newest version (2.10.1-2ubuntu0.3).\n",
            "libgbm1 is already the newest version (21.2.6-0ubuntu0.1~20.04.2).\n",
            "libgdk-pixbuf2.0-0 is already the newest version (2.40.0+dfsg-3ubuntu0.4).\n",
            "libgl1 is already the newest version (1.3.2-1~ubuntu0.20.04.2).\n",
            "libgles2 is already the newest version (1.3.2-1~ubuntu0.20.04.2).\n",
            "libglib2.0-0 is already the newest version (2.64.6-1~ubuntu20.04.6).\n",
            "libgtk-3-0 is already the newest version (3.24.20-0ubuntu1.1).\n",
            "libharfbuzz-icu0 is already the newest version (2.6.4-1ubuntu4.2).\n",
            "libharfbuzz0b is already the newest version (2.6.4-1ubuntu4.2).\n",
            "libicu66 is already the newest version (66.1-2ubuntu2.1).\n",
            "libjpeg-turbo8 is already the newest version (2.0.3-0ubuntu1.20.04.3).\n",
            "libnotify4 is already the newest version (0.7.9-1ubuntu3.20.04.2).\n",
            "libnss3 is already the newest version (2:3.49.1-1ubuntu1.9).\n",
            "libopengl0 is already the newest version (1.3.2-1~ubuntu0.20.04.2).\n",
            "libopenjp2-7 is already the newest version (2.3.1-1ubuntu4.20.04.1).\n",
            "libsecret-1-0 is already the newest version (0.20.4-0ubuntu1).\n",
            "libwayland-client0 is already the newest version (1.18.0-1ubuntu0.1).\n",
            "libwayland-egl1 is already the newest version (1.18.0-1ubuntu0.1).\n",
            "libwayland-server0 is already the newest version (1.18.0-1ubuntu0.1).\n",
            "libwebp6 is already the newest version (0.6.1-2ubuntu0.20.04.2).\n",
            "libwebpdemux2 is already the newest version (0.6.1-2ubuntu0.20.04.2).\n",
            "libx11-6 is already the newest version (2:1.6.9-2ubuntu1.5).\n",
            "libx11-xcb1 is already the newest version (2:1.6.9-2ubuntu1.5).\n",
            "libxml2 is already the newest version (2.9.10+dfsg-5ubuntu0.20.04.6).\n",
            "libxslt1.1 is already the newest version (1.1.34-4ubuntu0.20.04.1).\n",
            "ffmpeg is already the newest version (7:4.2.7-0ubuntu0.1).\n",
            "xvfb is already the newest version (2:1.20.13-1ubuntu1~20.04.8).\n",
            "0 upgraded, 0 newly installed, 0 to remove and 19 not upgraded.\n"
          ]
        }
      ]
    },
    {
      "cell_type": "code",
      "source": [
        "from google.colab import drive\n",
        "drive.mount('/content/drive')"
      ],
      "metadata": {
        "colab": {
          "base_uri": "https://localhost:8080/"
        },
        "id": "-Rx2nNrMJ1rI",
        "outputId": "0b5cbfe4-affc-4f3d-86f0-5aa116573a5b"
      },
      "execution_count": 4,
      "outputs": [
        {
          "output_type": "stream",
          "name": "stdout",
          "text": [
            "Drive already mounted at /content/drive; to attempt to forcibly remount, call drive.mount(\"/content/drive\", force_remount=True).\n"
          ]
        }
      ]
    },
    {
      "cell_type": "code",
      "execution_count": 5,
      "metadata": {
        "colab": {
          "base_uri": "https://localhost:8080/"
        },
        "id": "-vc7yHH_JvXc",
        "outputId": "f62c6394-e071-4abb-eec1-446d256681a1"
      },
      "outputs": [
        {
          "output_type": "execute_result",
          "data": {
            "text/plain": [
              "[2015, 2016, 2017, 2018, 2019, 2020, 2021, 2022, 2023]"
            ]
          },
          "metadata": {},
          "execution_count": 5
        }
      ],
      "source": [
        "SEASONS = list(range(2015, 2024))\n",
        "SEASONS"
      ]
    },
    {
      "cell_type": "code",
      "execution_count": 6,
      "metadata": {
        "id": "l6k7DLhGJvXd"
      },
      "outputs": [],
      "source": [
        "DATA_DIR = \"/content/drive/MyDrive/Colab Notebooks/Basketball Analytics Project/data\""
      ]
    },
    {
      "cell_type": "code",
      "source": [
        "def is_valid_integer(string):\n",
        "    try:\n",
        "        integer = int(string)\n",
        "        return True\n",
        "    except ValueError:\n",
        "        return False\n"
      ],
      "metadata": {
        "id": "fn8OtHhnsmfN"
      },
      "execution_count": 7,
      "outputs": []
    },
    {
      "cell_type": "code",
      "execution_count": 8,
      "metadata": {
        "id": "4FeDRiagJvXd"
      },
      "outputs": [],
      "source": [
        "async def get_html(url, selector, sleep=5, retries=3):\n",
        "  html = None\n",
        "  for i in range(1, retries+1):\n",
        "    time.sleep(sleep * i)\n",
        "\n",
        "    try:\n",
        "      async with async_playwright() as p:\n",
        "        browser = await p.firefox.launch()\n",
        "        page = await browser.new_page()\n",
        "        await page.goto(url)\n",
        "        print(await page.title())\n",
        "        html = await page.inner_html(selector)\n",
        "    except PlaywrightTimeout:\n",
        "      print(f\"Tiemout error on {url}\")\n",
        "      continue\n",
        "    break\n",
        "\n",
        "  return html"
      ]
    },
    {
      "cell_type": "code",
      "source": [
        "async def scrape_season(season):\n",
        "  url = f'https://www.basketball-reference.com/players/c/curryst01/gamelog/2016'\n",
        "  html = await get_html(url, \"#inner_nav .hoversmooth\")\n",
        "\n",
        "  soup = BeautifulSoup(html)\n",
        "  links = soup.find_all(\"a\")\n",
        "  visited = set()  # Set to store visited URLs\n",
        "  games_pages = []\n",
        "\n",
        "  for link in links:\n",
        "      href = link.get(\"href\")\n",
        "      if href and \"gamelog\" in href and is_valid_integer(href.split('/')[-1]):\n",
        "          season = int(href.split('/')[-1])\n",
        "          if season in SEASONS and href not in visited:\n",
        "              games_pages.append(f\"https://www.basketball-reference.com{href}\")\n",
        "              visited.add(href)\n",
        "\n",
        "\n",
        "  for url in games_pages:\n",
        "    save_path = os.path.join(DATA_DIR, url.split(\"/\")[-1])\n",
        "    if os.path.exists(save_path):\n",
        "      continue\n",
        "\n",
        "    html = await get_html(url, \"#content\")\n",
        "    if not html:\n",
        "      continue\n",
        "    with open(save_path, \"w+\") as f:\n",
        "      f.write(html)\n"
      ],
      "metadata": {
        "id": "hQ69I3GcMCcU"
      },
      "execution_count": 9,
      "outputs": []
    },
    {
      "cell_type": "code",
      "source": [
        "for season in SEASONS:\n",
        "    await scrape_season(season)"
      ],
      "metadata": {
        "colab": {
          "base_uri": "https://localhost:8080/"
        },
        "id": "DmThnQgIN_CT",
        "outputId": "5244d853-0e9b-4c18-b722-088bdab617d4"
      },
      "execution_count": 14,
      "outputs": [
        {
          "output_type": "stream",
          "name": "stdout",
          "text": [
            "Stephen Curry 2015-16 Game Log | Basketball-Reference.com\n",
            "Stephen Curry 2014-15 Game Log | Basketball-Reference.com\n",
            "Stephen Curry 2015-16 Game Log | Basketball-Reference.com\n",
            "Stephen Curry 2016-17 Game Log | Basketball-Reference.com\n",
            "Stephen Curry 2017-18 Game Log | Basketball-Reference.com\n",
            "Stephen Curry 2018-19 Game Log | Basketball-Reference.com\n",
            "Stephen Curry 2019-20 Game Log | Basketball-Reference.com\n",
            "Stephen Curry 2020-21 Game Log | Basketball-Reference.com\n",
            "Stephen Curry 2021-22 Game Log | Basketball-Reference.com\n",
            "Stephen Curry 2022-23 Game Log | Basketball-Reference.com\n",
            "Stephen Curry 2015-16 Game Log | Basketball-Reference.com\n",
            "Stephen Curry 2015-16 Game Log | Basketball-Reference.com\n",
            "Stephen Curry 2015-16 Game Log | Basketball-Reference.com\n",
            "Stephen Curry 2015-16 Game Log | Basketball-Reference.com\n",
            "Stephen Curry 2015-16 Game Log | Basketball-Reference.com\n",
            "Stephen Curry 2015-16 Game Log | Basketball-Reference.com\n",
            "Stephen Curry 2015-16 Game Log | Basketball-Reference.com\n",
            "Stephen Curry 2015-16 Game Log | Basketball-Reference.com\n"
          ]
        }
      ]
    },
    {
      "cell_type": "code",
      "source": [
        "# !find '/content/drive/MyDrive/Colab Notebooks/Basketball Analytics Project/data' -type f -delete"
      ],
      "metadata": {
        "id": "pfwGoHZe5Dst"
      },
      "execution_count": 12,
      "outputs": []
    }
  ],
  "metadata": {
    "kernelspec": {
      "display_name": "Python 3",
      "language": "python",
      "name": "python3"
    },
    "language_info": {
      "codemirror_mode": {
        "name": "ipython",
        "version": 3
      },
      "file_extension": ".py",
      "mimetype": "text/x-python",
      "name": "python",
      "nbconvert_exporter": "python",
      "pygments_lexer": "ipython3",
      "version": "3.10.4"
    },
    "orig_nbformat": 4,
    "colab": {
      "provenance": []
    }
  },
  "nbformat": 4,
  "nbformat_minor": 0
}